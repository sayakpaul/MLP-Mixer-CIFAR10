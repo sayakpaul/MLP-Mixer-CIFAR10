{
 "cells": [
  {
   "cell_type": "markdown",
   "metadata": {
    "id": "3z8DjZW4C7JC"
   },
   "source": [
    "**Note**: Some portions of the code present in this notebook are referred from the following tutorials: \n",
    "\n",
    "* [Image Classification with Vision Transformer](https://keras.io/examples/vision/image_classification_with_vision_transformer/)\n",
    "* [Consistency Training with Supervision](https://keras.io/examples/vision/consistency_training/)"
   ]
  },
  {
   "cell_type": "markdown",
   "metadata": {
    "id": "rLEpvdDWzfJu"
   },
   "source": [
    "## Setup"
   ]
  },
  {
   "cell_type": "code",
   "execution_count": 1,
   "metadata": {
    "colab": {
     "base_uri": "https://localhost:8080/"
    },
    "id": "lIYdn1woOS1n",
    "outputId": "d6a3872e-734e-4674-b8a0-0290d85d98f5"
   },
   "outputs": [
    {
     "name": "stdout",
     "output_type": "stream",
     "text": [
      "INFO:tensorflow:Mixed precision compatibility check (mixed_float16): OK\n",
      "Your GPUs will likely run quickly with dtype policy mixed_float16 as they all have compute capability of at least 7.0\n"
     ]
    }
   ],
   "source": [
    "from tensorflow.keras import layers\n",
    "from tensorflow import keras\n",
    "import tensorflow as tf\n",
    "import numpy as np\n",
    "\n",
    "# Only enable this for tensor-core GPUs\n",
    "from tensorflow.keras import mixed_precision\n",
    "mixed_precision.set_global_policy(\"mixed_float16\")"
   ]
  },
  {
   "cell_type": "code",
   "execution_count": 2,
   "metadata": {
    "colab": {
     "base_uri": "https://localhost:8080/"
    },
    "id": "PQv9hhdJz3GK",
    "outputId": "83bede46-b83c-48fd-be08-0fab7db48153"
   },
   "outputs": [
    {
     "name": "stdout",
     "output_type": "stream",
     "text": [
      "INFO:tensorflow:Using MirroredStrategy with devices ('/job:localhost/replica:0/task:0/device:GPU:0', '/job:localhost/replica:0/task:0/device:GPU:1', '/job:localhost/replica:0/task:0/device:GPU:2', '/job:localhost/replica:0/task:0/device:GPU:3')\n",
      "Number of accelerators:  4\n"
     ]
    }
   ],
   "source": [
    "try: \n",
    "    tpu = None\n",
    "    tpu = tf.distribute.cluster_resolver.TPUClusterResolver() \n",
    "    tf.config.experimental_connect_to_cluster(tpu)\n",
    "    tf.tpu.experimental.initialize_tpu_system(tpu)\n",
    "    strategy = tf.distribute.TPUStrategy(tpu)\n",
    "except ValueError: \n",
    "    strategy = tf.distribute.MirroredStrategy() \n",
    "\n",
    "print(\"Number of accelerators: \", strategy.num_replicas_in_sync)"
   ]
  },
  {
   "cell_type": "markdown",
   "metadata": {
    "id": "F86Hxyhe0t6z"
   },
   "source": [
    "## Hyperparameters"
   ]
  },
  {
   "cell_type": "code",
   "execution_count": 3,
   "metadata": {
    "id": "tpEtfs_zQ1aw"
   },
   "outputs": [],
   "source": [
    "RESIZE_TO = 72\n",
    "PATCH_SIZE = 9\n",
    "\n",
    "NUM_MIXER_LAYERS = 2\n",
    "HIDDEN_SIZE = 128\n",
    "MLP_SEQ_DIM = 64\n",
    "MLP_CHANNEL_DIM = 128\n",
    "\n",
    "EPOCHS = 100\n",
    "BATCH_SIZE = 512 * strategy.num_replicas_in_sync"
   ]
  },
  {
   "cell_type": "markdown",
   "metadata": {
    "id": "pl7NBpaX0vmZ"
   },
   "source": [
    "## Dataset Utilities"
   ]
  },
  {
   "cell_type": "code",
   "execution_count": 4,
   "metadata": {
    "id": "1lbRgIu0BbTF"
   },
   "outputs": [],
   "source": [
    "(x_train, y_train), (x_test, y_test) = keras.datasets.cifar10.load_data()"
   ]
  },
  {
   "cell_type": "code",
   "execution_count": 5,
   "metadata": {
    "id": "t6qEXvcVR7ZJ"
   },
   "outputs": [],
   "source": [
    "def get_augmentation_layers():\n",
    "    data_augmentation = keras.Sequential(\n",
    "        [\n",
    "            layers.experimental.preprocessing.Normalization(),\n",
    "            layers.experimental.preprocessing.Resizing(RESIZE_TO, RESIZE_TO),\n",
    "            layers.experimental.preprocessing.RandomFlip(\"horizontal\"),\n",
    "            layers.experimental.preprocessing.RandomRotation(factor=0.02),\n",
    "            layers.experimental.preprocessing.RandomZoom(\n",
    "                height_factor=0.2, width_factor=0.2\n",
    "            ),\n",
    "        ],\n",
    "        name=\"data_augmentation\",\n",
    "    )\n",
    "    # Compute the mean and the variance of the training data for normalization.\n",
    "    data_augmentation.layers[0].adapt(x_train)\n",
    "    \n",
    "    return data_augmentation"
   ]
  },
  {
   "cell_type": "markdown",
   "metadata": {
    "id": "pLWzoSyL3AlB"
   },
   "source": [
    "## MLP-Mixer Utilities\n",
    "\n",
    "This is referred from **Appendix E** of the [original paper](https://arxiv.org/pdf/2105.01601.pdf). "
   ]
  },
  {
   "cell_type": "code",
   "execution_count": 6,
   "metadata": {
    "id": "_8cOi71NDCPC"
   },
   "outputs": [],
   "source": [
    "def mlp_block(x, mlp_dim):\n",
    "    x = layers.Dense(mlp_dim)(x)\n",
    "    x = tf.nn.gelu(x)\n",
    "    return layers.Dense(x.shape[-1])(x)\n",
    "\n",
    "def mixer_block(x, tokens_mlp_dim, channels_mlp_dim):\n",
    "    y = layers.LayerNormalization()(x)\n",
    "    y = layers.Permute((2, 1))(y)\n",
    "    \n",
    "    token_mixing = mlp_block(y, tokens_mlp_dim)\n",
    "    token_mixing = layers.Permute((2, 1))(token_mixing)\n",
    "    x = layers.Add()([x, token_mixing])\n",
    "    \n",
    "    y = layers.LayerNormalization()(x)\n",
    "    channel_mixing = mlp_block(y, channels_mlp_dim)\n",
    "    output = layers.Add()([x, channel_mixing])\n",
    "    return output\n",
    "\n",
    "def mlp_mixer(x, num_blocks, patch_size, hidden_dim, \n",
    "              tokens_mlp_dim, channels_mlp_dim,\n",
    "              num_classes=10):\n",
    "    x = layers.Conv2D(hidden_dim, kernel_size=patch_size,\n",
    "                      strides=patch_size, padding=\"valid\")(x)\n",
    "    x = layers.Reshape((x.shape[1]*x.shape[2], x.shape[3]))(x)\n",
    "\n",
    "    for _ in range(num_blocks):\n",
    "        x = mixer_block(x, tokens_mlp_dim, channels_mlp_dim)\n",
    "    \n",
    "    x = layers.LayerNormalization()(x)\n",
    "    x = layers.Dropout(0.25)(x)\n",
    "    x = layers.GlobalAveragePooling1D()(x)\n",
    "    return layers.Dense(num_classes, activation=\"softmax\", dtype=\"float32\")(x)"
   ]
  },
  {
   "cell_type": "code",
   "execution_count": 7,
   "metadata": {
    "id": "8dDTVVfmToYj"
   },
   "outputs": [],
   "source": [
    "def create_mlp_mixer():\n",
    "    data_augmentation = get_augmentation_layers()\n",
    "    \n",
    "    inputs = layers.Input(shape=(32, 32, 3))\n",
    "    augmented = data_augmentation(inputs)\n",
    "    outputs = mlp_mixer(augmented, NUM_MIXER_LAYERS,\n",
    "                        PATCH_SIZE, HIDDEN_SIZE, \n",
    "                        MLP_SEQ_DIM, MLP_CHANNEL_DIM)\n",
    "    return tf.keras.Model(inputs, outputs, name=\"mlp_mixer\")"
   ]
  },
  {
   "cell_type": "code",
   "execution_count": 8,
   "metadata": {
    "id": "wzogB6HoVh5J"
   },
   "outputs": [],
   "source": [
    "def run_experiment(model):\n",
    "    optimizer = tf.keras.optimizers.Adam(learning_rate=0.001 * strategy.num_replicas_in_sync)\n",
    "\n",
    "    model.compile(\n",
    "        optimizer=optimizer,\n",
    "        loss=\"sparse_categorical_crossentropy\",\n",
    "        metrics=[\"accuracy\"]\n",
    "    )\n",
    "\n",
    "    checkpoint_filepath = \"/tmp/checkpoint\"\n",
    "    checkpoint_callback = keras.callbacks.ModelCheckpoint(\n",
    "        checkpoint_filepath,\n",
    "        monitor=\"val_accuracy\",\n",
    "        save_best_only=True,\n",
    "        save_weights_only=True,\n",
    "    )\n",
    "\n",
    "    history = model.fit(\n",
    "        x=x_train,\n",
    "        y=y_train,\n",
    "        batch_size=BATCH_SIZE,\n",
    "        epochs=EPOCHS,\n",
    "        validation_split=0.1,\n",
    "        callbacks=[checkpoint_callback],\n",
    "    )\n",
    "\n",
    "    model.load_weights(checkpoint_filepath)\n",
    "    _, top_1_accuracy = model.evaluate(x_test, y_test)\n",
    "    print(f\"Test accuracy: {round(top_1_accuracy * 100, 2)}%\")\n",
    "    \n",
    "    return history, model"
   ]
  },
  {
   "cell_type": "markdown",
   "metadata": {},
   "source": [
    "## Model Training and Evaluation"
   ]
  },
  {
   "cell_type": "code",
   "execution_count": 9,
   "metadata": {
    "colab": {
     "base_uri": "https://localhost:8080/"
    },
    "id": "_X6YN4B2lGrO",
    "outputId": "b58f5b40-e70a-4bce-a14c-7e5a3a35dfb8"
   },
   "outputs": [
    {
     "name": "stdout",
     "output_type": "stream",
     "text": [
      "INFO:tensorflow:Reduce to /job:localhost/replica:0/task:0/device:CPU:0 then broadcast to ('/job:localhost/replica:0/task:0/device:CPU:0',).\n",
      "INFO:tensorflow:Reduce to /job:localhost/replica:0/task:0/device:CPU:0 then broadcast to ('/job:localhost/replica:0/task:0/device:CPU:0',).\n",
      "INFO:tensorflow:Reduce to /job:localhost/replica:0/task:0/device:CPU:0 then broadcast to ('/job:localhost/replica:0/task:0/device:CPU:0',).\n",
      "INFO:tensorflow:Reduce to /job:localhost/replica:0/task:0/device:CPU:0 then broadcast to ('/job:localhost/replica:0/task:0/device:CPU:0',).\n",
      "Epoch 1/100\n",
      "INFO:tensorflow:Reduce to /job:localhost/replica:0/task:0/device:CPU:0 then broadcast to ('/job:localhost/replica:0/task:0/device:CPU:0',).\n",
      "INFO:tensorflow:batch_all_reduce: 30 all-reduces with algorithm = nccl, num_packs = 1\n",
      "INFO:tensorflow:Reduce to /job:localhost/replica:0/task:0/device:CPU:0 then broadcast to ('/job:localhost/replica:0/task:0/device:CPU:0',).\n",
      "INFO:tensorflow:Reduce to /job:localhost/replica:0/task:0/device:CPU:0 then broadcast to ('/job:localhost/replica:0/task:0/device:CPU:0',).\n",
      "INFO:tensorflow:Reduce to /job:localhost/replica:0/task:0/device:CPU:0 then broadcast to ('/job:localhost/replica:0/task:0/device:CPU:0',).\n",
      "INFO:tensorflow:Reduce to /job:localhost/replica:0/task:0/device:CPU:0 then broadcast to ('/job:localhost/replica:0/task:0/device:CPU:0',).\n",
      "INFO:tensorflow:Reduce to /job:localhost/replica:0/task:0/device:CPU:0 then broadcast to ('/job:localhost/replica:0/task:0/device:CPU:0',).\n",
      "INFO:tensorflow:batch_all_reduce: 30 all-reduces with algorithm = nccl, num_packs = 1\n",
      "22/22 [==============================] - 25s 195ms/step - loss: 2.2509 - accuracy: 0.1768 - val_loss: 1.9747 - val_accuracy: 0.2542\n",
      "Epoch 2/100\n",
      "22/22 [==============================] - 1s 36ms/step - loss: 1.9398 - accuracy: 0.2886 - val_loss: 1.7781 - val_accuracy: 0.3470\n",
      "Epoch 3/100\n",
      "22/22 [==============================] - 1s 35ms/step - loss: 1.7533 - accuracy: 0.3639 - val_loss: 1.6220 - val_accuracy: 0.4194\n",
      "Epoch 4/100\n",
      "22/22 [==============================] - 1s 35ms/step - loss: 1.5916 - accuracy: 0.4295 - val_loss: 1.4527 - val_accuracy: 0.4826\n",
      "Epoch 5/100\n",
      "22/22 [==============================] - 1s 35ms/step - loss: 1.4669 - accuracy: 0.4746 - val_loss: 1.3873 - val_accuracy: 0.4970\n",
      "Epoch 6/100\n",
      "22/22 [==============================] - 1s 35ms/step - loss: 1.4046 - accuracy: 0.4940 - val_loss: 1.3323 - val_accuracy: 0.5080\n",
      "Epoch 7/100\n",
      "22/22 [==============================] - 1s 35ms/step - loss: 1.3443 - accuracy: 0.5188 - val_loss: 1.3052 - val_accuracy: 0.5218\n",
      "Epoch 8/100\n",
      "22/22 [==============================] - 1s 35ms/step - loss: 1.3092 - accuracy: 0.5280 - val_loss: 1.2671 - val_accuracy: 0.5376\n",
      "Epoch 9/100\n",
      "22/22 [==============================] - 1s 35ms/step - loss: 1.2753 - accuracy: 0.5433 - val_loss: 1.2281 - val_accuracy: 0.5602\n",
      "Epoch 10/100\n",
      "22/22 [==============================] - 1s 35ms/step - loss: 1.2499 - accuracy: 0.5558 - val_loss: 1.2045 - val_accuracy: 0.5662\n",
      "Epoch 11/100\n",
      "22/22 [==============================] - 1s 35ms/step - loss: 1.2194 - accuracy: 0.5619 - val_loss: 1.1756 - val_accuracy: 0.5810\n",
      "Epoch 12/100\n",
      "22/22 [==============================] - 1s 35ms/step - loss: 1.1982 - accuracy: 0.5733 - val_loss: 1.1563 - val_accuracy: 0.5836\n",
      "Epoch 13/100\n",
      "22/22 [==============================] - 1s 35ms/step - loss: 1.1717 - accuracy: 0.5808 - val_loss: 1.1480 - val_accuracy: 0.5864\n",
      "Epoch 14/100\n",
      "22/22 [==============================] - 1s 35ms/step - loss: 1.1609 - accuracy: 0.5885 - val_loss: 1.1220 - val_accuracy: 0.6014\n",
      "Epoch 15/100\n",
      "22/22 [==============================] - 1s 35ms/step - loss: 1.1449 - accuracy: 0.5925 - val_loss: 1.1011 - val_accuracy: 0.6096\n",
      "Epoch 16/100\n",
      "22/22 [==============================] - 1s 45ms/step - loss: 1.1156 - accuracy: 0.6046 - val_loss: 1.0877 - val_accuracy: 0.6116\n",
      "Epoch 17/100\n",
      "22/22 [==============================] - 1s 35ms/step - loss: 1.0900 - accuracy: 0.6135 - val_loss: 1.1242 - val_accuracy: 0.5986\n",
      "Epoch 18/100\n",
      "22/22 [==============================] - 1s 35ms/step - loss: 1.0864 - accuracy: 0.6141 - val_loss: 1.0594 - val_accuracy: 0.6248\n",
      "Epoch 19/100\n",
      "22/22 [==============================] - 1s 35ms/step - loss: 1.0720 - accuracy: 0.6189 - val_loss: 1.0638 - val_accuracy: 0.6178\n",
      "Epoch 20/100\n",
      "22/22 [==============================] - 1s 35ms/step - loss: 1.0683 - accuracy: 0.6215 - val_loss: 1.0286 - val_accuracy: 0.6356\n",
      "Epoch 21/100\n",
      "22/22 [==============================] - 1s 34ms/step - loss: 1.0281 - accuracy: 0.6362 - val_loss: 1.0291 - val_accuracy: 0.6392\n",
      "Epoch 22/100\n",
      "22/22 [==============================] - 1s 35ms/step - loss: 1.0248 - accuracy: 0.6357 - val_loss: 1.0079 - val_accuracy: 0.6392\n",
      "Epoch 23/100\n",
      "22/22 [==============================] - 1s 35ms/step - loss: 1.0045 - accuracy: 0.6464 - val_loss: 1.0040 - val_accuracy: 0.6422\n",
      "Epoch 24/100\n",
      "22/22 [==============================] - 1s 35ms/step - loss: 0.9829 - accuracy: 0.6522 - val_loss: 0.9709 - val_accuracy: 0.6568\n",
      "Epoch 25/100\n",
      "22/22 [==============================] - 1s 35ms/step - loss: 0.9765 - accuracy: 0.6556 - val_loss: 1.0048 - val_accuracy: 0.6476\n",
      "Epoch 26/100\n",
      "22/22 [==============================] - 1s 35ms/step - loss: 0.9689 - accuracy: 0.6571 - val_loss: 0.9753 - val_accuracy: 0.6574\n",
      "Epoch 27/100\n",
      "22/22 [==============================] - 1s 35ms/step - loss: 0.9539 - accuracy: 0.6651 - val_loss: 0.9657 - val_accuracy: 0.6588\n",
      "Epoch 28/100\n",
      "22/22 [==============================] - 1s 35ms/step - loss: 0.9516 - accuracy: 0.6647 - val_loss: 0.9731 - val_accuracy: 0.6576\n",
      "Epoch 29/100\n",
      "22/22 [==============================] - 1s 35ms/step - loss: 0.9548 - accuracy: 0.6628 - val_loss: 0.9587 - val_accuracy: 0.6602\n",
      "Epoch 30/100\n",
      "22/22 [==============================] - 1s 35ms/step - loss: 0.9423 - accuracy: 0.6669 - val_loss: 0.9534 - val_accuracy: 0.6670\n",
      "Epoch 31/100\n",
      "22/22 [==============================] - 1s 35ms/step - loss: 0.9229 - accuracy: 0.6767 - val_loss: 0.9601 - val_accuracy: 0.6632\n",
      "Epoch 32/100\n",
      "22/22 [==============================] - 1s 35ms/step - loss: 0.9125 - accuracy: 0.6754 - val_loss: 0.9687 - val_accuracy: 0.6592\n",
      "Epoch 33/100\n",
      "22/22 [==============================] - 1s 35ms/step - loss: 0.8990 - accuracy: 0.6825 - val_loss: 0.9432 - val_accuracy: 0.6692\n",
      "Epoch 34/100\n",
      "22/22 [==============================] - 1s 35ms/step - loss: 0.8911 - accuracy: 0.6868 - val_loss: 0.9412 - val_accuracy: 0.6638\n",
      "Epoch 35/100\n",
      "22/22 [==============================] - 1s 35ms/step - loss: 0.8764 - accuracy: 0.6889 - val_loss: 0.9262 - val_accuracy: 0.6764\n",
      "Epoch 36/100\n",
      "22/22 [==============================] - 1s 35ms/step - loss: 0.8658 - accuracy: 0.6927 - val_loss: 0.9342 - val_accuracy: 0.6746\n",
      "Epoch 37/100\n",
      "22/22 [==============================] - 1s 35ms/step - loss: 0.8610 - accuracy: 0.6971 - val_loss: 0.9621 - val_accuracy: 0.6688\n",
      "Epoch 38/100\n",
      "22/22 [==============================] - 1s 35ms/step - loss: 0.8795 - accuracy: 0.6900 - val_loss: 0.9055 - val_accuracy: 0.6720\n",
      "Epoch 39/100\n",
      "22/22 [==============================] - 1s 35ms/step - loss: 0.8481 - accuracy: 0.6973 - val_loss: 0.8889 - val_accuracy: 0.6846\n",
      "Epoch 40/100\n",
      "22/22 [==============================] - 1s 36ms/step - loss: 0.8305 - accuracy: 0.7031 - val_loss: 0.9135 - val_accuracy: 0.6734\n",
      "Epoch 41/100\n",
      "22/22 [==============================] - 1s 36ms/step - loss: 0.8284 - accuracy: 0.7085 - val_loss: 0.8987 - val_accuracy: 0.6826\n",
      "Epoch 42/100\n",
      "22/22 [==============================] - 1s 36ms/step - loss: 0.8313 - accuracy: 0.7057 - val_loss: 0.9182 - val_accuracy: 0.6750\n",
      "Epoch 43/100\n",
      "22/22 [==============================] - 1s 36ms/step - loss: 0.8259 - accuracy: 0.7104 - val_loss: 0.9018 - val_accuracy: 0.6802\n",
      "Epoch 44/100\n",
      "22/22 [==============================] - 1s 35ms/step - loss: 0.8111 - accuracy: 0.7121 - val_loss: 0.9020 - val_accuracy: 0.6818\n",
      "Epoch 45/100\n",
      "22/22 [==============================] - 1s 35ms/step - loss: 0.8194 - accuracy: 0.7088 - val_loss: 0.8866 - val_accuracy: 0.6886\n",
      "Epoch 46/100\n",
      "22/22 [==============================] - 1s 34ms/step - loss: 0.8020 - accuracy: 0.7132 - val_loss: 0.8900 - val_accuracy: 0.6882\n",
      "Epoch 47/100\n",
      "22/22 [==============================] - 1s 35ms/step - loss: 0.7913 - accuracy: 0.7163 - val_loss: 0.9040 - val_accuracy: 0.6844\n",
      "Epoch 48/100\n",
      "22/22 [==============================] - 1s 35ms/step - loss: 0.7818 - accuracy: 0.7216 - val_loss: 0.8825 - val_accuracy: 0.6936\n",
      "Epoch 49/100\n",
      "22/22 [==============================] - 1s 35ms/step - loss: 0.7750 - accuracy: 0.7282 - val_loss: 0.8740 - val_accuracy: 0.6894\n",
      "Epoch 50/100\n",
      "22/22 [==============================] - 1s 35ms/step - loss: 0.7700 - accuracy: 0.7267 - val_loss: 0.8917 - val_accuracy: 0.6850\n",
      "Epoch 51/100\n",
      "22/22 [==============================] - 1s 35ms/step - loss: 0.7769 - accuracy: 0.7259 - val_loss: 0.8499 - val_accuracy: 0.7018\n",
      "Epoch 52/100\n",
      "22/22 [==============================] - 1s 35ms/step - loss: 0.7567 - accuracy: 0.7322 - val_loss: 0.8532 - val_accuracy: 0.6976\n",
      "Epoch 53/100\n",
      "22/22 [==============================] - 1s 35ms/step - loss: 0.7570 - accuracy: 0.7341 - val_loss: 0.8579 - val_accuracy: 0.6968\n",
      "Epoch 54/100\n",
      "22/22 [==============================] - 1s 35ms/step - loss: 0.7516 - accuracy: 0.7320 - val_loss: 0.8814 - val_accuracy: 0.6914\n",
      "Epoch 55/100\n",
      "22/22 [==============================] - 1s 35ms/step - loss: 0.7407 - accuracy: 0.7362 - val_loss: 0.8707 - val_accuracy: 0.6916\n",
      "Epoch 56/100\n",
      "22/22 [==============================] - 1s 34ms/step - loss: 0.7334 - accuracy: 0.7464 - val_loss: 0.8673 - val_accuracy: 0.6906\n",
      "Epoch 57/100\n",
      "22/22 [==============================] - 1s 35ms/step - loss: 0.7389 - accuracy: 0.7397 - val_loss: 0.8588 - val_accuracy: 0.7056\n",
      "Epoch 58/100\n",
      "22/22 [==============================] - 1s 36ms/step - loss: 0.7193 - accuracy: 0.7441 - val_loss: 0.8340 - val_accuracy: 0.7134\n",
      "Epoch 59/100\n",
      "22/22 [==============================] - 1s 35ms/step - loss: 0.7237 - accuracy: 0.7425 - val_loss: 0.8596 - val_accuracy: 0.6986\n",
      "Epoch 60/100\n",
      "22/22 [==============================] - 1s 35ms/step - loss: 0.7021 - accuracy: 0.7491 - val_loss: 0.8879 - val_accuracy: 0.6982\n",
      "Epoch 61/100\n",
      "22/22 [==============================] - 1s 35ms/step - loss: 0.7154 - accuracy: 0.7456 - val_loss: 0.8672 - val_accuracy: 0.6982\n",
      "Epoch 62/100\n",
      "22/22 [==============================] - 1s 35ms/step - loss: 0.7103 - accuracy: 0.7473 - val_loss: 0.8479 - val_accuracy: 0.7044\n",
      "Epoch 63/100\n",
      "22/22 [==============================] - 1s 35ms/step - loss: 0.7119 - accuracy: 0.7474 - val_loss: 0.8404 - val_accuracy: 0.7054\n",
      "Epoch 64/100\n",
      "22/22 [==============================] - 1s 35ms/step - loss: 0.7060 - accuracy: 0.7510 - val_loss: 0.8423 - val_accuracy: 0.7048\n",
      "Epoch 65/100\n",
      "22/22 [==============================] - 1s 35ms/step - loss: 0.6966 - accuracy: 0.7514 - val_loss: 0.8534 - val_accuracy: 0.7034\n",
      "Epoch 66/100\n",
      "22/22 [==============================] - 1s 34ms/step - loss: 0.6870 - accuracy: 0.7554 - val_loss: 0.8724 - val_accuracy: 0.6972\n",
      "Epoch 67/100\n",
      "22/22 [==============================] - 1s 35ms/step - loss: 0.6918 - accuracy: 0.7578 - val_loss: 0.8512 - val_accuracy: 0.6988\n",
      "Epoch 68/100\n",
      "22/22 [==============================] - 1s 35ms/step - loss: 0.6854 - accuracy: 0.7541 - val_loss: 0.8263 - val_accuracy: 0.7064\n",
      "Epoch 69/100\n",
      "22/22 [==============================] - 1s 35ms/step - loss: 0.6684 - accuracy: 0.7623 - val_loss: 0.8527 - val_accuracy: 0.7046\n",
      "Epoch 70/100\n",
      "22/22 [==============================] - 1s 35ms/step - loss: 0.6720 - accuracy: 0.7611 - val_loss: 0.8602 - val_accuracy: 0.7026\n",
      "Epoch 71/100\n",
      "22/22 [==============================] - 1s 35ms/step - loss: 0.6830 - accuracy: 0.7596 - val_loss: 0.8458 - val_accuracy: 0.7040\n",
      "Epoch 72/100\n",
      "22/22 [==============================] - 1s 35ms/step - loss: 0.6689 - accuracy: 0.7630 - val_loss: 0.8527 - val_accuracy: 0.7048\n",
      "Epoch 73/100\n",
      "22/22 [==============================] - 1s 35ms/step - loss: 0.6517 - accuracy: 0.7669 - val_loss: 0.8408 - val_accuracy: 0.7078\n",
      "Epoch 74/100\n",
      "22/22 [==============================] - 1s 35ms/step - loss: 0.6634 - accuracy: 0.7642 - val_loss: 0.8826 - val_accuracy: 0.7030\n",
      "Epoch 75/100\n",
      "22/22 [==============================] - 1s 35ms/step - loss: 0.6754 - accuracy: 0.7619 - val_loss: 0.8865 - val_accuracy: 0.6948\n",
      "Epoch 76/100\n",
      "22/22 [==============================] - 1s 35ms/step - loss: 0.6686 - accuracy: 0.7629 - val_loss: 0.8457 - val_accuracy: 0.7076\n",
      "Epoch 77/100\n",
      "22/22 [==============================] - 1s 35ms/step - loss: 0.6592 - accuracy: 0.7658 - val_loss: 0.8756 - val_accuracy: 0.6960\n",
      "Epoch 78/100\n",
      "22/22 [==============================] - 1s 36ms/step - loss: 0.6548 - accuracy: 0.7652 - val_loss: 0.8319 - val_accuracy: 0.7152\n",
      "Epoch 79/100\n",
      "22/22 [==============================] - 1s 35ms/step - loss: 0.6340 - accuracy: 0.7752 - val_loss: 0.8759 - val_accuracy: 0.7016\n",
      "Epoch 80/100\n",
      "22/22 [==============================] - 1s 35ms/step - loss: 0.6424 - accuracy: 0.7694 - val_loss: 0.8384 - val_accuracy: 0.7114\n",
      "Epoch 81/100\n",
      "22/22 [==============================] - 1s 35ms/step - loss: 0.6383 - accuracy: 0.7735 - val_loss: 0.8522 - val_accuracy: 0.7052\n",
      "Epoch 82/100\n",
      "22/22 [==============================] - 1s 35ms/step - loss: 0.6296 - accuracy: 0.7761 - val_loss: 0.8394 - val_accuracy: 0.7146\n",
      "Epoch 83/100\n",
      "22/22 [==============================] - 1s 37ms/step - loss: 0.6147 - accuracy: 0.7835 - val_loss: 0.8188 - val_accuracy: 0.7148\n",
      "Epoch 84/100\n",
      "22/22 [==============================] - 1s 35ms/step - loss: 0.6217 - accuracy: 0.7768 - val_loss: 0.8322 - val_accuracy: 0.7114\n",
      "Epoch 85/100\n",
      "22/22 [==============================] - 1s 35ms/step - loss: 0.6204 - accuracy: 0.7795 - val_loss: 0.8655 - val_accuracy: 0.7076\n",
      "Epoch 86/100\n",
      "22/22 [==============================] - 1s 35ms/step - loss: 0.6225 - accuracy: 0.7768 - val_loss: 0.8274 - val_accuracy: 0.7158\n",
      "Epoch 87/100\n",
      "22/22 [==============================] - 1s 35ms/step - loss: 0.6092 - accuracy: 0.7839 - val_loss: 0.8463 - val_accuracy: 0.7094\n",
      "Epoch 88/100\n",
      "22/22 [==============================] - 1s 35ms/step - loss: 0.6079 - accuracy: 0.7835 - val_loss: 0.8597 - val_accuracy: 0.7106\n",
      "Epoch 89/100\n",
      "22/22 [==============================] - 1s 35ms/step - loss: 0.6119 - accuracy: 0.7790 - val_loss: 0.8449 - val_accuracy: 0.7150\n",
      "Epoch 90/100\n",
      "22/22 [==============================] - 1s 35ms/step - loss: 0.6109 - accuracy: 0.7850 - val_loss: 0.8459 - val_accuracy: 0.7110\n",
      "Epoch 91/100\n",
      "22/22 [==============================] - 1s 35ms/step - loss: 0.5990 - accuracy: 0.7880 - val_loss: 0.8545 - val_accuracy: 0.7040\n",
      "Epoch 92/100\n",
      "22/22 [==============================] - 1s 35ms/step - loss: 0.6115 - accuracy: 0.7799 - val_loss: 0.8343 - val_accuracy: 0.7164\n",
      "Epoch 93/100\n",
      "22/22 [==============================] - 1s 35ms/step - loss: 0.6086 - accuracy: 0.7827 - val_loss: 0.8525 - val_accuracy: 0.7036\n",
      "Epoch 94/100\n",
      "22/22 [==============================] - 1s 35ms/step - loss: 0.6038 - accuracy: 0.7845 - val_loss: 0.8544 - val_accuracy: 0.7072\n",
      "Epoch 95/100\n",
      "22/22 [==============================] - 1s 35ms/step - loss: 0.5964 - accuracy: 0.7870 - val_loss: 0.8458 - val_accuracy: 0.7122\n",
      "Epoch 96/100\n",
      "22/22 [==============================] - 1s 35ms/step - loss: 0.5940 - accuracy: 0.7871 - val_loss: 0.8478 - val_accuracy: 0.7124\n",
      "Epoch 97/100\n",
      "22/22 [==============================] - 1s 35ms/step - loss: 0.5924 - accuracy: 0.7892 - val_loss: 0.8553 - val_accuracy: 0.7092\n",
      "Epoch 98/100\n",
      "22/22 [==============================] - 1s 35ms/step - loss: 0.5932 - accuracy: 0.7884 - val_loss: 0.8786 - val_accuracy: 0.7008\n",
      "Epoch 99/100\n",
      "22/22 [==============================] - 1s 35ms/step - loss: 0.5820 - accuracy: 0.7940 - val_loss: 0.8491 - val_accuracy: 0.7118\n",
      "Epoch 100/100\n",
      "22/22 [==============================] - 1s 34ms/step - loss: 0.5713 - accuracy: 0.7957 - val_loss: 0.8591 - val_accuracy: 0.7194\n",
      "313/313 [==============================] - 2s 7ms/step - loss: 0.8847 - accuracy: 0.7094\n",
      "Test accuracy: 70.94%\n",
      "INFO:tensorflow:Assets written to: mlp_mixer_2/assets\n"
     ]
    }
   ],
   "source": [
    "with strategy.scope():\n",
    "    mlp_mixer_classifier = create_mlp_mixer()\n",
    "    history, model = run_experiment(mlp_mixer_classifier)\n",
    "    model.save(f\"mlp_mixer_{NUM_MIXER_LAYERS}\")"
   ]
  }
 ],
 "metadata": {
  "accelerator": "GPU",
  "colab": {
   "include_colab_link": true,
   "machine_shape": "hm",
   "name": "MLP_Mixer_Training",
   "provenance": []
  },
  "environment": {
   "name": "tf2-gpu.2-4.m65",
   "type": "gcloud",
   "uri": "gcr.io/deeplearning-platform-release/tf2-gpu.2-4:m65"
  },
  "kernelspec": {
   "display_name": "Python 3",
   "language": "python",
   "name": "python3"
  },
  "language_info": {
   "codemirror_mode": {
    "name": "ipython",
    "version": 3
   },
   "file_extension": ".py",
   "mimetype": "text/x-python",
   "name": "python",
   "nbconvert_exporter": "python",
   "pygments_lexer": "ipython3",
   "version": "3.7.10"
  }
 },
 "nbformat": 4,
 "nbformat_minor": 4
}
