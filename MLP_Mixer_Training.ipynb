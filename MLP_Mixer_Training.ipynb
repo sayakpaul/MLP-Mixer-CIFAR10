{
  "nbformat": 4,
  "nbformat_minor": 0,
  "metadata": {
    "colab": {
      "name": "MLP_Mixer_Training",
      "provenance": [],
      "machine_shape": "hm",
      "include_colab_link": true
    },
    "kernelspec": {
      "display_name": "Python 3",
      "name": "python3"
    },
    "accelerator": "GPU"
  },
  "cells": [
    {
      "cell_type": "markdown",
      "metadata": {
        "id": "view-in-github",
        "colab_type": "text"
      },
      "source": [
        "<a href=\"https://colab.research.google.com/github/sayakpaul/MLP-Mixer-CIFAR10/blob/main/MLP_Mixer_Training.ipynb\" target=\"_parent\"><img src=\"https://colab.research.google.com/assets/colab-badge.svg\" alt=\"Open In Colab\"/></a>"
      ]
    },
    {
      "cell_type": "markdown",
      "metadata": {
        "id": "3z8DjZW4C7JC"
      },
      "source": [
        "**Note**: Some portions of the code present in this notebook are referred from this tutorial: [Image Classification with Vision Transformer](https://keras.io/examples/vision/image_classification_with_vision_transformer/). "
      ]
    },
    {
      "cell_type": "markdown",
      "metadata": {
        "id": "rLEpvdDWzfJu"
      },
      "source": [
        "## Setup"
      ]
    },
    {
      "cell_type": "code",
      "metadata": {
        "id": "d4tPC5VlzpGd"
      },
      "source": [
        "# !pip install -q tf-models-official tensorflow-probability"
      ],
      "execution_count": 1,
      "outputs": []
    },
    {
      "cell_type": "code",
      "metadata": {
        "id": "lIYdn1woOS1n",
        "colab": {
          "base_uri": "https://localhost:8080/"
        },
        "outputId": "d6a3872e-734e-4674-b8a0-0290d85d98f5"
      },
      "source": [
        "from official.vision.image_classification.augment import RandAugment\n",
        "from tensorflow.keras import layers\n",
        "from tensorflow import keras\n",
        "import tensorflow_probability as tfp\n",
        "import tensorflow as tf\n",
        "import numpy as np\n",
        "\n",
        "from tensorflow.keras import mixed_precision\n",
        "mixed_precision.set_global_policy(\"mixed_float16\")"
      ],
      "execution_count": 2,
      "outputs": [
        {
          "output_type": "stream",
          "text": [
            "WARNING:tensorflow:Mixed precision compatibility check (mixed_float16): WARNING\n",
            "The dtype policy mixed_float16 may run slowly because this machine does not have a GPU. Only Nvidia GPUs with compute capability of at least 7.0 run quickly with mixed_float16.\n",
            "If you will use compatible GPU(s) not attached to this host, e.g. by running a multi-worker model, you can ignore this warning. This message will only be logged once\n"
          ],
          "name": "stdout"
        }
      ]
    },
    {
      "cell_type": "code",
      "metadata": {
        "colab": {
          "base_uri": "https://localhost:8080/"
        },
        "id": "PQv9hhdJz3GK",
        "outputId": "83bede46-b83c-48fd-be08-0fab7db48153"
      },
      "source": [
        "try: \n",
        "    tpu = None\n",
        "    tpu = tf.distribute.cluster_resolver.TPUClusterResolver() \n",
        "    tf.config.experimental_connect_to_cluster(tpu)\n",
        "    tf.tpu.experimental.initialize_tpu_system(tpu)\n",
        "    strategy = tf.distribute.TPUStrategy(tpu)\n",
        "except ValueError: \n",
        "    strategy = tf.distribute.MirroredStrategy() \n",
        "\n",
        "print(\"Number of accelerators: \", strategy.num_replicas_in_sync)"
      ],
      "execution_count": 3,
      "outputs": [
        {
          "output_type": "stream",
          "text": [
            "WARNING:tensorflow:There are non-GPU devices in `tf.distribute.Strategy`, not using nccl allreduce.\n",
            "WARNING:tensorflow:Collective ops is not configured at program startup. Some performance features may not be enabled.\n",
            "INFO:tensorflow:Using MirroredStrategy with devices ('/job:localhost/replica:0/task:0/device:CPU:0',)\n",
            "Number of accelerators:  1\n"
          ],
          "name": "stdout"
        }
      ]
    },
    {
      "cell_type": "markdown",
      "metadata": {
        "id": "F86Hxyhe0t6z"
      },
      "source": [
        "## Hyperparameters"
      ]
    },
    {
      "cell_type": "code",
      "metadata": {
        "id": "tpEtfs_zQ1aw"
      },
      "source": [
        "RESIZE_TO = 96\n",
        "CROP_TO = 72\n",
        "PATCH_SIZE = 9\n",
        "\n",
        "NUM_MIXER_LAYERS = 6\n",
        "HIDDEN_SIZE = 128\n",
        "MLP_SEQ_DIM = 64\n",
        "MLP_CHANNEL_DIM = 128\n",
        "\n",
        "EPOCHS = 100\n",
        "BATCH_SIZE = 256 * strategy.num_replicas_in_sync"
      ],
      "execution_count": 4,
      "outputs": []
    },
    {
      "cell_type": "markdown",
      "metadata": {
        "id": "pl7NBpaX0vmZ"
      },
      "source": [
        "## Dataset Utilities"
      ]
    },
    {
      "cell_type": "code",
      "metadata": {
        "id": "1lbRgIu0BbTF"
      },
      "source": [
        "(x_train, y_train), (x_test, y_test) = keras.datasets.cifar10.load_data()\n",
        "\n",
        "val_samples = 49500\n",
        "new_train_x, new_y_train = x_train[:val_samples], y_train[:val_samples]\n",
        "val_x, val_y = x_train[val_samples:], y_train[val_samples:]"
      ],
      "execution_count": 5,
      "outputs": []
    },
    {
      "cell_type": "code",
      "metadata": {
        "id": "t6qEXvcVR7ZJ"
      },
      "source": [
        "augmenter = RandAugment(num_layers=2, magnitude=9)\n",
        "\n",
        "def preprocess_train(image, label):\n",
        "    image = tf.cast(image, tf.float32)\n",
        "    label = tf.cast(label, tf.float32)\n",
        "\n",
        "    image = tf.image.random_flip_left_right(image)\n",
        "    image = tf.image.resize(image, [RESIZE_TO, RESIZE_TO])\n",
        "    image = tf.image.random_crop(image, [CROP_TO, CROP_TO, 3])\n",
        "    image = augmenter.distort(image)\n",
        "    return image, label\n",
        "\n",
        "def preprocess_test(image, label):\n",
        "    image = tf.cast(image, tf.float32)\n",
        "    label = tf.cast(label, tf.float32)\n",
        "\n",
        "    image = tf.image.resize(image, [CROP_TO, CROP_TO])\n",
        "    image = tf.image.central_crop(image, 0.5)\n",
        "    return image, label"
      ],
      "execution_count": 6,
      "outputs": []
    },
    {
      "cell_type": "code",
      "metadata": {
        "colab": {
          "base_uri": "https://localhost:8080/"
        },
        "id": "4BrXTVqk2Ggq",
        "outputId": "3a4be8df-4a40-4025-a223-046d982b973b"
      },
      "source": [
        "AUTO = tf.data.AUTOTUNE\n",
        "\n",
        "train_ds = tf.data.Dataset.from_tensor_slices((new_train_x, new_y_train))\n",
        "validation_ds = tf.data.Dataset.from_tensor_slices((val_x, val_y))\n",
        "test_ds = tf.data.Dataset.from_tensor_slices((x_test, y_test))\n",
        "\n",
        "train_ds = (train_ds\n",
        "                  .shuffle(BATCH_SIZE*10, seed=42)\n",
        "                  .map(preprocess_train, num_parallel_calls=AUTO)\n",
        "                  .batch(BATCH_SIZE)\n",
        "                  .prefetch(AUTO))\n",
        "\n",
        "validation_ds = (validation_ds.map(preprocess_test, num_parallel_calls=AUTO)\n",
        "                  .batch(BATCH_SIZE)\n",
        "                  .prefetch(AUTO))\n",
        "\n",
        "test_ds = (test_ds.map(preprocess_test, num_parallel_calls=AUTO)\n",
        "                  .batch(BATCH_SIZE)\n",
        "                  .prefetch(AUTO))"
      ],
      "execution_count": 7,
      "outputs": [
        {
          "output_type": "stream",
          "text": [
            "WARNING:tensorflow:From /usr/local/lib/python3.7/dist-packages/tensorflow/python/ops/array_ops.py:5049: calling gather (from tensorflow.python.ops.array_ops) with validate_indices is deprecated and will be removed in a future version.\n",
            "Instructions for updating:\n",
            "The `validate_indices` argument has no effect. Indices are always validated on CPU and never validated on GPU.\n"
          ],
          "name": "stdout"
        }
      ]
    },
    {
      "cell_type": "markdown",
      "metadata": {
        "id": "pLWzoSyL3AlB"
      },
      "source": [
        "## MLP-Mixer Utilities\n",
        "\n",
        "This is referred from **Appendix E** of the [original paper](https://arxiv.org/pdf/2105.01601.pdf). "
      ]
    },
    {
      "cell_type": "code",
      "metadata": {
        "id": "_8cOi71NDCPC"
      },
      "source": [
        "def mlp_block(x, mlp_dim):\n",
        "    x = layers.Dense(mlp_dim)(x)\n",
        "    x = tf.nn.gelu(x)\n",
        "    return layers.Dense(x.shape[-1])(x)\n",
        "\n",
        "def mixer_block(x, tokens_mlp_dim, channels_mlp_dim):\n",
        "    y = layers.LayerNormalization()(x)\n",
        "    y = layers.Permute((2, 1))(y)\n",
        "    \n",
        "    token_mixing = mlp_block(y, tokens_mlp_dim)\n",
        "    token_mixing = layers.Permute((2, 1))(token_mixing)\n",
        "    x = layers.Add()([x, token_mixing])\n",
        "    \n",
        "    y = layers.LayerNormalization()(x)\n",
        "    channel_mixing = mlp_block(y, channels_mlp_dim)\n",
        "    output = layers.Add()([x, channel_mixing])\n",
        "    return output\n",
        "\n",
        "def mlp_mixer(x, num_blocks, patch_size, hidden_dim, \n",
        "              tokens_mlp_dim, channels_mlp_dim,\n",
        "              num_classes=10):\n",
        "    x = layers.Conv2D(hidden_dim, kernel_size=patch_size,\n",
        "                      strides=patch_size, padding=\"valid\")(x)\n",
        "    x = layers.Reshape((x.shape[1]*x.shape[2], x.shape[3]))(x)\n",
        "\n",
        "    for _ in range(num_blocks):\n",
        "        x = mixer_block(x, tokens_mlp_dim, channels_mlp_dim)\n",
        "    \n",
        "    x = layers.LayerNormalization()(x)\n",
        "    x = layers.Dropout(0.25)(x)\n",
        "    x = layers.GlobalAveragePooling1D()(x)\n",
        "    return layers.Dense(num_classes, activation=\"softmax\", dtype=\"float32\")(x)"
      ],
      "execution_count": 8,
      "outputs": []
    },
    {
      "cell_type": "code",
      "metadata": {
        "id": "8dDTVVfmToYj"
      },
      "source": [
        "def create_mlp_mixer():\n",
        "    inputs = layers.Input(shape=(CROP_TO, CROP_TO, 3))\n",
        "    rescaled = layers.experimental.preprocessing.Rescaling(scale=1./255)(inputs)\n",
        "    outputs = mlp_mixer(rescaled, NUM_MIXER_LAYERS,\n",
        "                        PATCH_SIZE, HIDDEN_SIZE, \n",
        "                        MLP_SEQ_DIM, MLP_CHANNEL_DIM)\n",
        "    return tf.keras.Model(inputs, outputs, name=\"mlp_mixer\")"
      ],
      "execution_count": 9,
      "outputs": []
    },
    {
      "cell_type": "code",
      "metadata": {
        "id": "wzogB6HoVh5J"
      },
      "source": [
        "def run_experiment(model):\n",
        "    optimizer = tf.keras.optimizers.Adam(learning_rate=0.001)\n",
        "\n",
        "    model.compile(\n",
        "        optimizer=optimizer,\n",
        "        loss=\"sparse_categorical_crossentropy\",\n",
        "        metrics=[\"accuracy\"]\n",
        "    )\n",
        "\n",
        "    checkpoint_filepath = \"/tmp/checkpoint\"\n",
        "    checkpoint_callback = keras.callbacks.ModelCheckpoint(\n",
        "        checkpoint_filepath,\n",
        "        monitor=\"val_accuracy\",\n",
        "        save_best_only=True,\n",
        "        save_weights_only=True,\n",
        "    )\n",
        "\n",
        "    history = model.fit(\n",
        "        train_ds,\n",
        "        validation_data=validation_ds,\n",
        "        epochs=EPOCHS,\n",
        "        callbacks=[checkpoint_callback],\n",
        "    )\n",
        "\n",
        "    model.load_weights(checkpoint_filepath)\n",
        "    _, top_1_accuracy = model.evaluate(test_ds)\n",
        "    print(f\"Test accuracy: {round(top_1_accuracy * 100, 2)}%\")\n",
        "    \n",
        "    return history, model"
      ],
      "execution_count": 12,
      "outputs": []
    },
    {
      "cell_type": "code",
      "metadata": {
        "id": "_X6YN4B2lGrO",
        "colab": {
          "base_uri": "https://localhost:8080/"
        },
        "outputId": "b58f5b40-e70a-4bce-a14c-7e5a3a35dfb8"
      },
      "source": [
        "with strategy.scope():\n",
        "    mlp_mixer_classifier = create_mlp_mixer()\n",
        "    history = run_experiment(mlp_mixer_classifier)\n",
        "    model.save(f\"mlp_mixer_{NUM_MIXER_LAYERS}\")"
      ],
      "execution_count": null,
      "outputs": [
        {
          "output_type": "stream",
          "text": [
            "Epoch 1/100\n",
            "  1/194 [..............................] - ETA: 7:27:19 - loss: 2.5295 - accuracy: 0.0859"
          ],
          "name": "stdout"
        }
      ]
    }
  ]
}