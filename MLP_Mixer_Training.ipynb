{
 "cells": [
  {
   "cell_type": "markdown",
   "metadata": {
    "id": "3z8DjZW4C7JC"
   },
   "source": [
    "**Note**: Some portions of the code present in this notebook are referred from the following tutorials: \n",
    "\n",
    "* [Image Classification with Vision Transformer](https://keras.io/examples/vision/image_classification_with_vision_transformer/)\n",
    "* [Consistency Training with Supervision](https://keras.io/examples/vision/consistency_training/)"
   ]
  },
  {
   "cell_type": "markdown",
   "metadata": {
    "id": "rLEpvdDWzfJu"
   },
   "source": [
    "## Setup"
   ]
  },
  {
   "cell_type": "code",
   "execution_count": 1,
   "metadata": {
    "colab": {
     "base_uri": "https://localhost:8080/"
    },
    "id": "lIYdn1woOS1n",
    "outputId": "d6a3872e-734e-4674-b8a0-0290d85d98f5"
   },
   "outputs": [
    {
     "name": "stdout",
     "output_type": "stream",
     "text": [
      "INFO:tensorflow:Mixed precision compatibility check (mixed_float16): OK\n",
      "Your GPUs will likely run quickly with dtype policy mixed_float16 as they all have compute capability of at least 7.0\n"
     ]
    }
   ],
   "source": [
    "from tensorflow.keras import layers\n",
    "from tensorflow import keras\n",
    "import matplotlib.pyplot as plt\n",
    "import tensorflow as tf\n",
    "import numpy as np\n",
    "import io\n",
    "\n",
    "# Only enable this for tensor-core GPUs\n",
    "from tensorflow.keras import mixed_precision\n",
    "mixed_precision.set_global_policy(\"mixed_float16\")"
   ]
  },
  {
   "cell_type": "code",
   "execution_count": 2,
   "metadata": {
    "colab": {
     "base_uri": "https://localhost:8080/"
    },
    "id": "PQv9hhdJz3GK",
    "outputId": "83bede46-b83c-48fd-be08-0fab7db48153"
   },
   "outputs": [
    {
     "name": "stdout",
     "output_type": "stream",
     "text": [
      "INFO:tensorflow:Using MirroredStrategy with devices ('/job:localhost/replica:0/task:0/device:GPU:0', '/job:localhost/replica:0/task:0/device:GPU:1', '/job:localhost/replica:0/task:0/device:GPU:2', '/job:localhost/replica:0/task:0/device:GPU:3')\n",
      "Number of accelerators:  4\n"
     ]
    }
   ],
   "source": [
    "try: \n",
    "    tpu = None\n",
    "    tpu = tf.distribute.cluster_resolver.TPUClusterResolver() \n",
    "    tf.config.experimental_connect_to_cluster(tpu)\n",
    "    tf.tpu.experimental.initialize_tpu_system(tpu)\n",
    "    strategy = tf.distribute.TPUStrategy(tpu)\n",
    "except ValueError: \n",
    "    strategy = tf.distribute.MirroredStrategy() \n",
    "\n",
    "print(\"Number of accelerators: \", strategy.num_replicas_in_sync)"
   ]
  },
  {
   "cell_type": "markdown",
   "metadata": {
    "id": "F86Hxyhe0t6z"
   },
   "source": [
    "## Hyperparameters"
   ]
  },
  {
   "cell_type": "code",
   "execution_count": 3,
   "metadata": {
    "id": "tpEtfs_zQ1aw"
   },
   "outputs": [],
   "source": [
    "RESIZE_TO = 72\n",
    "PATCH_SIZE = 9\n",
    "\n",
    "NUM_MIXER_LAYERS = 4\n",
    "HIDDEN_SIZE = 128\n",
    "MLP_SEQ_DIM = 64\n",
    "MLP_CHANNEL_DIM = 128\n",
    "\n",
    "EPOCHS = 100\n",
    "BATCH_SIZE = 512 * strategy.num_replicas_in_sync"
   ]
  },
  {
   "cell_type": "markdown",
   "metadata": {
    "id": "pl7NBpaX0vmZ"
   },
   "source": [
    "## Dataset Utilities"
   ]
  },
  {
   "cell_type": "code",
   "execution_count": 4,
   "metadata": {
    "id": "1lbRgIu0BbTF"
   },
   "outputs": [],
   "source": [
    "(x_train, y_train), (x_test, y_test) = keras.datasets.cifar10.load_data()"
   ]
  },
  {
   "cell_type": "code",
   "execution_count": 5,
   "metadata": {
    "id": "t6qEXvcVR7ZJ"
   },
   "outputs": [],
   "source": [
    "def get_augmentation_layers():\n",
    "    data_augmentation = keras.Sequential(\n",
    "        [\n",
    "            layers.experimental.preprocessing.Normalization(),\n",
    "            layers.experimental.preprocessing.Resizing(RESIZE_TO, RESIZE_TO),\n",
    "            layers.experimental.preprocessing.RandomFlip(\"horizontal\"),\n",
    "            layers.experimental.preprocessing.RandomRotation(factor=0.02),\n",
    "            layers.experimental.preprocessing.RandomZoom(\n",
    "                height_factor=0.2, width_factor=0.2\n",
    "            ),\n",
    "        ],\n",
    "        name=\"data_augmentation\",\n",
    "    )\n",
    "    # Compute the mean and the variance of the training data for normalization.\n",
    "    data_augmentation.layers[0].adapt(x_train)\n",
    "    \n",
    "    return data_augmentation"
   ]
  },
  {
   "cell_type": "markdown",
   "metadata": {
    "id": "pLWzoSyL3AlB"
   },
   "source": [
    "## MLP-Mixer Utilities\n",
    "\n",
    "This is referred from **Appendix E** of the [original paper](https://arxiv.org/pdf/2105.01601.pdf). "
   ]
  },
  {
   "cell_type": "code",
   "execution_count": 6,
   "metadata": {
    "id": "_8cOi71NDCPC"
   },
   "outputs": [],
   "source": [
    "def mlp_block(x, mlp_dim):\n",
    "    x = layers.Dense(mlp_dim)(x)\n",
    "    x = tf.nn.gelu(x)\n",
    "    return layers.Dense(x.shape[-1])(x)\n",
    "\n",
    "def mixer_block(x, tokens_mlp_dim, channels_mlp_dim):\n",
    "    y = layers.LayerNormalization()(x)\n",
    "    y = layers.Permute((2, 1))(y)\n",
    "    \n",
    "    token_mixing = mlp_block(y, tokens_mlp_dim)\n",
    "    token_mixing = layers.Permute((2, 1))(token_mixing)\n",
    "    x = layers.Add()([x, token_mixing])\n",
    "    \n",
    "    y = layers.LayerNormalization()(x)\n",
    "    channel_mixing = mlp_block(y, channels_mlp_dim)\n",
    "    output = layers.Add()([x, channel_mixing])\n",
    "    return output\n",
    "\n",
    "def mlp_mixer(x, num_blocks, patch_size, hidden_dim, \n",
    "              tokens_mlp_dim, channels_mlp_dim,\n",
    "              num_classes=10):\n",
    "    x = layers.Conv2D(hidden_dim, kernel_size=patch_size,\n",
    "                      strides=patch_size, padding=\"valid\")(x)\n",
    "    x = layers.Reshape((x.shape[1]*x.shape[2], x.shape[3]))(x)\n",
    "\n",
    "    for _ in range(num_blocks):\n",
    "        x = mixer_block(x, tokens_mlp_dim, channels_mlp_dim)\n",
    "    \n",
    "    x = layers.LayerNormalization()(x)\n",
    "    x = layers.Dropout(0.25)(x)\n",
    "    x = layers.GlobalAveragePooling1D()(x)\n",
    "    return layers.Dense(num_classes, activation=\"softmax\", dtype=\"float32\")(x)"
   ]
  },
  {
   "cell_type": "code",
   "execution_count": 7,
   "metadata": {
    "id": "8dDTVVfmToYj"
   },
   "outputs": [],
   "source": [
    "def create_mlp_mixer():\n",
    "    data_augmentation = get_augmentation_layers()\n",
    "    \n",
    "    inputs = layers.Input(shape=(32, 32, 3))\n",
    "    augmented = data_augmentation(inputs)\n",
    "    outputs = mlp_mixer(augmented, NUM_MIXER_LAYERS,\n",
    "                        PATCH_SIZE, HIDDEN_SIZE, \n",
    "                        MLP_SEQ_DIM, MLP_CHANNEL_DIM)\n",
    "    return tf.keras.Model(inputs, outputs, name=\"mlp_mixer\")"
   ]
  },
  {
   "cell_type": "code",
   "execution_count": 8,
   "metadata": {},
   "outputs": [],
   "source": [
    "# We need to instantiate the model here for the callback below.\n",
    "with strategy.scope():\n",
    "    mlp_mixer_classifier = create_mlp_mixer()"
   ]
  },
  {
   "cell_type": "code",
   "execution_count": 9,
   "metadata": {},
   "outputs": [],
   "source": [
    "# Courtesy: https://www.tensorflow.org/tensorboard/image_summaries\n",
    "file_writer_cm = tf.summary.create_file_writer(\"logs/mixer_projection\")\n",
    "\n",
    "def plot_to_image(figure):\n",
    "    # Save the plot to a PNG in memory.\n",
    "    buf = io.BytesIO()\n",
    "    plt.savefig(buf, format=\"png\")\n",
    "    \n",
    "    # Closing the figure prevents it from being displayed directly inside\n",
    "    # the notebook.\n",
    "    plt.close(figure)\n",
    "    buf.seek(0)\n",
    "    \n",
    "    # Convert PNG buffer to TF image\n",
    "    image = tf.image.decode_png(buf.getvalue(), channels=4)\n",
    "    \n",
    "    # Add the batch dimension\n",
    "    image = tf.expand_dims(image, 0)\n",
    "    return image\n",
    "\n",
    "def log_progression(epoch, logs):\n",
    "    projections = mlp_mixer_classifier.layers[2].get_weights()[0]\n",
    "    p_min, p_max = projections.min(), projections.max()\n",
    "    projections = (projections - p_min) / (p_max - p_min)\n",
    "\n",
    "    figure = plt.figure(figsize=(10, 10))\n",
    "    n_filters, ix = 128, 1\n",
    "    for i in range(n_filters):\n",
    "        projection = projections[:, :, :, i]\n",
    "        plt.subplot(8, 16, ix)\n",
    "        plt.axis(\"off\")\n",
    "        plt.imshow(projection)\n",
    "        ix += 1\n",
    "\n",
    "    progress_image = plot_to_image(figure)\n",
    "    with file_writer_cm.as_default():\n",
    "        tf.summary.image(\"Progression\", progress_image, step=epoch)"
   ]
  },
  {
   "cell_type": "code",
   "execution_count": 10,
   "metadata": {
    "id": "wzogB6HoVh5J"
   },
   "outputs": [],
   "source": [
    "def run_experiment(model):\n",
    "    optimizer = tf.keras.optimizers.Adam(learning_rate=0.001 * strategy.num_replicas_in_sync)\n",
    "\n",
    "    model.compile(\n",
    "        optimizer=optimizer,\n",
    "        loss=\"sparse_categorical_crossentropy\",\n",
    "        metrics=[\"accuracy\"]\n",
    "    )\n",
    "\n",
    "    checkpoint_filepath = \"/tmp/checkpoint\"\n",
    "    checkpoint_callback = keras.callbacks.ModelCheckpoint(\n",
    "        checkpoint_filepath,\n",
    "        monitor=\"val_accuracy\",\n",
    "        save_best_only=True,\n",
    "        save_weights_only=True,\n",
    "    )\n",
    "    \n",
    "    progress_callback = tf.keras.callbacks.LambdaCallback(on_epoch_end=log_progression)\n",
    "\n",
    "    history = model.fit(\n",
    "        x=x_train,\n",
    "        y=y_train,\n",
    "        batch_size=BATCH_SIZE,\n",
    "        epochs=EPOCHS,\n",
    "        validation_split=0.1,\n",
    "        callbacks=[checkpoint_callback, progress_callback],\n",
    "    )\n",
    "\n",
    "    model.load_weights(checkpoint_filepath)\n",
    "    _, top_1_accuracy = model.evaluate(x_test, y_test)\n",
    "    print(f\"Test accuracy: {round(top_1_accuracy * 100, 2)}%\")\n",
    "    \n",
    "    return history, model"
   ]
  },
  {
   "cell_type": "markdown",
   "metadata": {},
   "source": [
    "## Model Training and Evaluation"
   ]
  },
  {
   "cell_type": "code",
   "execution_count": 11,
   "metadata": {
    "colab": {
     "base_uri": "https://localhost:8080/"
    },
    "id": "_X6YN4B2lGrO",
    "outputId": "b58f5b40-e70a-4bce-a14c-7e5a3a35dfb8"
   },
   "outputs": [
    {
     "name": "stdout",
     "output_type": "stream",
     "text": [
      "INFO:tensorflow:Reduce to /job:localhost/replica:0/task:0/device:CPU:0 then broadcast to ('/job:localhost/replica:0/task:0/device:CPU:0',).\n",
      "INFO:tensorflow:Reduce to /job:localhost/replica:0/task:0/device:CPU:0 then broadcast to ('/job:localhost/replica:0/task:0/device:CPU:0',).\n",
      "INFO:tensorflow:Reduce to /job:localhost/replica:0/task:0/device:CPU:0 then broadcast to ('/job:localhost/replica:0/task:0/device:CPU:0',).\n",
      "INFO:tensorflow:Reduce to /job:localhost/replica:0/task:0/device:CPU:0 then broadcast to ('/job:localhost/replica:0/task:0/device:CPU:0',).\n",
      "Epoch 1/100\n",
      "INFO:tensorflow:Reduce to /job:localhost/replica:0/task:0/device:CPU:0 then broadcast to ('/job:localhost/replica:0/task:0/device:CPU:0',).\n",
      "INFO:tensorflow:batch_all_reduce: 54 all-reduces with algorithm = nccl, num_packs = 1\n",
      "INFO:tensorflow:Reduce to /job:localhost/replica:0/task:0/device:CPU:0 then broadcast to ('/job:localhost/replica:0/task:0/device:CPU:0',).\n",
      "INFO:tensorflow:Reduce to /job:localhost/replica:0/task:0/device:CPU:0 then broadcast to ('/job:localhost/replica:0/task:0/device:CPU:0',).\n",
      "INFO:tensorflow:Reduce to /job:localhost/replica:0/task:0/device:CPU:0 then broadcast to ('/job:localhost/replica:0/task:0/device:CPU:0',).\n",
      "INFO:tensorflow:Reduce to /job:localhost/replica:0/task:0/device:CPU:0 then broadcast to ('/job:localhost/replica:0/task:0/device:CPU:0',).\n",
      "INFO:tensorflow:Reduce to /job:localhost/replica:0/task:0/device:CPU:0 then broadcast to ('/job:localhost/replica:0/task:0/device:CPU:0',).\n",
      "INFO:tensorflow:batch_all_reduce: 54 all-reduces with algorithm = nccl, num_packs = 1\n",
      "22/22 [==============================] - 34s 228ms/step - loss: 2.3233 - accuracy: 0.1608 - val_loss: 1.9666 - val_accuracy: 0.2860\n",
      "Epoch 2/100\n",
      "22/22 [==============================] - 1s 51ms/step - loss: 1.9238 - accuracy: 0.2928 - val_loss: 1.7099 - val_accuracy: 0.3836\n",
      "Epoch 3/100\n",
      "22/22 [==============================] - 1s 50ms/step - loss: 1.6588 - accuracy: 0.3980 - val_loss: 1.4585 - val_accuracy: 0.4702\n",
      "Epoch 4/100\n",
      "22/22 [==============================] - 1s 50ms/step - loss: 1.4449 - accuracy: 0.4756 - val_loss: 1.3384 - val_accuracy: 0.5206\n",
      "Epoch 5/100\n",
      "22/22 [==============================] - 1s 49ms/step - loss: 1.3514 - accuracy: 0.5171 - val_loss: 1.2572 - val_accuracy: 0.5452\n",
      "Epoch 6/100\n",
      "22/22 [==============================] - 2s 87ms/step - loss: 1.2814 - accuracy: 0.5394 - val_loss: 1.1913 - val_accuracy: 0.5680\n",
      "Epoch 7/100\n",
      "22/22 [==============================] - 1s 51ms/step - loss: 1.2198 - accuracy: 0.5640 - val_loss: 1.1782 - val_accuracy: 0.5802\n",
      "Epoch 8/100\n",
      "22/22 [==============================] - 1s 50ms/step - loss: 1.1971 - accuracy: 0.5721 - val_loss: 1.1347 - val_accuracy: 0.5908\n",
      "Epoch 9/100\n",
      "22/22 [==============================] - 1s 49ms/step - loss: 1.1567 - accuracy: 0.5865 - val_loss: 1.0896 - val_accuracy: 0.6074\n",
      "Epoch 10/100\n",
      "22/22 [==============================] - 1s 50ms/step - loss: 1.1112 - accuracy: 0.6008 - val_loss: 1.0675 - val_accuracy: 0.6186\n",
      "Epoch 11/100\n",
      "22/22 [==============================] - 1s 50ms/step - loss: 1.0786 - accuracy: 0.6177 - val_loss: 1.0485 - val_accuracy: 0.6256\n",
      "Epoch 12/100\n",
      "22/22 [==============================] - 1s 50ms/step - loss: 1.0429 - accuracy: 0.6290 - val_loss: 1.0484 - val_accuracy: 0.6246\n",
      "Epoch 13/100\n",
      "22/22 [==============================] - 1s 50ms/step - loss: 1.0203 - accuracy: 0.6378 - val_loss: 1.0122 - val_accuracy: 0.6394\n",
      "Epoch 14/100\n",
      "22/22 [==============================] - 1s 50ms/step - loss: 0.9770 - accuracy: 0.6525 - val_loss: 1.0087 - val_accuracy: 0.6394\n",
      "Epoch 15/100\n",
      "22/22 [==============================] - 1s 49ms/step - loss: 0.9769 - accuracy: 0.6535 - val_loss: 0.9704 - val_accuracy: 0.6568\n",
      "Epoch 16/100\n",
      "22/22 [==============================] - 1s 50ms/step - loss: 0.9366 - accuracy: 0.6678 - val_loss: 0.9596 - val_accuracy: 0.6582\n",
      "Epoch 17/100\n",
      "22/22 [==============================] - 1s 50ms/step - loss: 0.9240 - accuracy: 0.6747 - val_loss: 0.9505 - val_accuracy: 0.6600\n",
      "Epoch 18/100\n",
      "22/22 [==============================] - 3s 150ms/step - loss: 0.8941 - accuracy: 0.6822 - val_loss: 0.9238 - val_accuracy: 0.6674\n",
      "Epoch 19/100\n",
      "22/22 [==============================] - 1s 50ms/step - loss: 0.8747 - accuracy: 0.6902 - val_loss: 0.9466 - val_accuracy: 0.6638\n",
      "Epoch 20/100\n",
      "22/22 [==============================] - 1s 50ms/step - loss: 0.8688 - accuracy: 0.6967 - val_loss: 0.8918 - val_accuracy: 0.6870\n",
      "Epoch 21/100\n",
      "22/22 [==============================] - 1s 49ms/step - loss: 0.8314 - accuracy: 0.7065 - val_loss: 0.9019 - val_accuracy: 0.6852\n",
      "Epoch 22/100\n",
      "22/22 [==============================] - 1s 50ms/step - loss: 0.8024 - accuracy: 0.7158 - val_loss: 0.8980 - val_accuracy: 0.6866\n",
      "Epoch 23/100\n",
      "22/22 [==============================] - 1s 49ms/step - loss: 0.8055 - accuracy: 0.7133 - val_loss: 0.8681 - val_accuracy: 0.6882\n",
      "Epoch 24/100\n",
      "22/22 [==============================] - 1s 49ms/step - loss: 0.7883 - accuracy: 0.7238 - val_loss: 0.8647 - val_accuracy: 0.6896\n",
      "Epoch 25/100\n",
      "22/22 [==============================] - 1s 49ms/step - loss: 0.7633 - accuracy: 0.7331 - val_loss: 0.8960 - val_accuracy: 0.6860\n",
      "Epoch 26/100\n",
      "22/22 [==============================] - 1s 49ms/step - loss: 0.7646 - accuracy: 0.7307 - val_loss: 0.8524 - val_accuracy: 0.6996\n",
      "Epoch 27/100\n",
      "22/22 [==============================] - 1s 50ms/step - loss: 0.7376 - accuracy: 0.7372 - val_loss: 0.8838 - val_accuracy: 0.6872\n",
      "Epoch 28/100\n",
      "22/22 [==============================] - 1s 50ms/step - loss: 0.7308 - accuracy: 0.7395 - val_loss: 0.8384 - val_accuracy: 0.7016\n",
      "Epoch 29/100\n",
      "22/22 [==============================] - 1s 50ms/step - loss: 0.7008 - accuracy: 0.7498 - val_loss: 0.8529 - val_accuracy: 0.6996\n",
      "Epoch 30/100\n",
      "22/22 [==============================] - 1s 50ms/step - loss: 0.7177 - accuracy: 0.7471 - val_loss: 0.8636 - val_accuracy: 0.6934\n",
      "Epoch 31/100\n",
      "22/22 [==============================] - 1s 50ms/step - loss: 0.6941 - accuracy: 0.7544 - val_loss: 0.8282 - val_accuracy: 0.7076\n",
      "Epoch 32/100\n",
      "22/22 [==============================] - 1s 49ms/step - loss: 0.6775 - accuracy: 0.7602 - val_loss: 0.8319 - val_accuracy: 0.7096\n",
      "Epoch 33/100\n",
      "22/22 [==============================] - 1s 49ms/step - loss: 0.6687 - accuracy: 0.7618 - val_loss: 0.8368 - val_accuracy: 0.7062\n",
      "Epoch 34/100\n",
      "22/22 [==============================] - 1s 49ms/step - loss: 0.6615 - accuracy: 0.7657 - val_loss: 0.8259 - val_accuracy: 0.7070\n",
      "Epoch 35/100\n",
      "22/22 [==============================] - 1s 50ms/step - loss: 0.6294 - accuracy: 0.7765 - val_loss: 0.8046 - val_accuracy: 0.7144\n",
      "Epoch 36/100\n",
      "22/22 [==============================] - 1s 50ms/step - loss: 0.6304 - accuracy: 0.7735 - val_loss: 0.8404 - val_accuracy: 0.7034\n",
      "Epoch 37/100\n",
      "22/22 [==============================] - 1s 49ms/step - loss: 0.6336 - accuracy: 0.7741 - val_loss: 0.8315 - val_accuracy: 0.7132\n",
      "Epoch 38/100\n",
      "22/22 [==============================] - 1s 49ms/step - loss: 0.6234 - accuracy: 0.7768 - val_loss: 0.8116 - val_accuracy: 0.7208\n",
      "Epoch 39/100\n",
      "22/22 [==============================] - 1s 49ms/step - loss: 0.5929 - accuracy: 0.7871 - val_loss: 0.8205 - val_accuracy: 0.7176\n",
      "Epoch 40/100\n",
      "22/22 [==============================] - 1s 49ms/step - loss: 0.5845 - accuracy: 0.7918 - val_loss: 0.8255 - val_accuracy: 0.7152\n",
      "Epoch 41/100\n",
      "22/22 [==============================] - 1s 50ms/step - loss: 0.5816 - accuracy: 0.7921 - val_loss: 0.8412 - val_accuracy: 0.7122\n",
      "Epoch 42/100\n",
      "22/22 [==============================] - 1s 49ms/step - loss: 0.5716 - accuracy: 0.7949 - val_loss: 0.8201 - val_accuracy: 0.7196\n",
      "Epoch 43/100\n",
      "22/22 [==============================] - 1s 49ms/step - loss: 0.5565 - accuracy: 0.8008 - val_loss: 0.8416 - val_accuracy: 0.7182\n",
      "Epoch 44/100\n",
      "22/22 [==============================] - 1s 49ms/step - loss: 0.5393 - accuracy: 0.8041 - val_loss: 0.8452 - val_accuracy: 0.7154\n",
      "Epoch 45/100\n",
      "22/22 [==============================] - 1s 50ms/step - loss: 0.5477 - accuracy: 0.8023 - val_loss: 0.8357 - val_accuracy: 0.7178\n",
      "Epoch 46/100\n",
      "22/22 [==============================] - 1s 50ms/step - loss: 0.5272 - accuracy: 0.8119 - val_loss: 0.8392 - val_accuracy: 0.7158\n",
      "Epoch 47/100\n",
      "22/22 [==============================] - 1s 50ms/step - loss: 0.5097 - accuracy: 0.8203 - val_loss: 0.8348 - val_accuracy: 0.7248\n",
      "Epoch 48/100\n",
      "22/22 [==============================] - 1s 50ms/step - loss: 0.5009 - accuracy: 0.8215 - val_loss: 0.8283 - val_accuracy: 0.7238\n",
      "Epoch 49/100\n",
      "22/22 [==============================] - 1s 50ms/step - loss: 0.5062 - accuracy: 0.8202 - val_loss: 0.8355 - val_accuracy: 0.7240\n",
      "Epoch 50/100\n",
      "22/22 [==============================] - 1s 49ms/step - loss: 0.4907 - accuracy: 0.8218 - val_loss: 0.8395 - val_accuracy: 0.7212\n",
      "Epoch 51/100\n",
      "22/22 [==============================] - 1s 49ms/step - loss: 0.5004 - accuracy: 0.8217 - val_loss: 0.8558 - val_accuracy: 0.7170\n",
      "Epoch 52/100\n",
      "22/22 [==============================] - 1s 49ms/step - loss: 0.4835 - accuracy: 0.8274 - val_loss: 0.8300 - val_accuracy: 0.7274\n",
      "Epoch 53/100\n",
      "22/22 [==============================] - 1s 50ms/step - loss: 0.4610 - accuracy: 0.8348 - val_loss: 0.8483 - val_accuracy: 0.7234\n",
      "Epoch 54/100\n",
      "22/22 [==============================] - 1s 50ms/step - loss: 0.4422 - accuracy: 0.8430 - val_loss: 0.8653 - val_accuracy: 0.7262\n",
      "Epoch 55/100\n",
      "22/22 [==============================] - 1s 49ms/step - loss: 0.4569 - accuracy: 0.8370 - val_loss: 0.8913 - val_accuracy: 0.7214\n",
      "Epoch 56/100\n",
      "22/22 [==============================] - 1s 49ms/step - loss: 0.4650 - accuracy: 0.8337 - val_loss: 0.8507 - val_accuracy: 0.7288\n",
      "Epoch 57/100\n",
      "22/22 [==============================] - 1s 49ms/step - loss: 0.4475 - accuracy: 0.8408 - val_loss: 0.8762 - val_accuracy: 0.7272\n",
      "Epoch 58/100\n",
      "22/22 [==============================] - 1s 50ms/step - loss: 0.4465 - accuracy: 0.8366 - val_loss: 0.8537 - val_accuracy: 0.7292\n",
      "Epoch 59/100\n",
      "22/22 [==============================] - 1s 49ms/step - loss: 0.4266 - accuracy: 0.8464 - val_loss: 0.8807 - val_accuracy: 0.7288\n",
      "Epoch 60/100\n",
      "22/22 [==============================] - 1s 50ms/step - loss: 0.4270 - accuracy: 0.8461 - val_loss: 0.8993 - val_accuracy: 0.7236\n",
      "Epoch 61/100\n",
      "22/22 [==============================] - 1s 49ms/step - loss: 0.4243 - accuracy: 0.8477 - val_loss: 0.8724 - val_accuracy: 0.7290\n",
      "Epoch 62/100\n",
      "22/22 [==============================] - 1s 49ms/step - loss: 0.4238 - accuracy: 0.8474 - val_loss: 0.8925 - val_accuracy: 0.7302\n",
      "Epoch 63/100\n",
      "22/22 [==============================] - 1s 49ms/step - loss: 0.4025 - accuracy: 0.8553 - val_loss: 0.8970 - val_accuracy: 0.7236\n",
      "Epoch 64/100\n",
      "22/22 [==============================] - 1s 50ms/step - loss: 0.4008 - accuracy: 0.8563 - val_loss: 0.9025 - val_accuracy: 0.7288\n",
      "Epoch 65/100\n",
      "22/22 [==============================] - 1s 49ms/step - loss: 0.3912 - accuracy: 0.8609 - val_loss: 0.9031 - val_accuracy: 0.7266\n",
      "Epoch 66/100\n",
      "22/22 [==============================] - 1s 49ms/step - loss: 0.3802 - accuracy: 0.8640 - val_loss: 0.9062 - val_accuracy: 0.7290\n",
      "Epoch 67/100\n",
      "22/22 [==============================] - 1s 49ms/step - loss: 0.3781 - accuracy: 0.8639 - val_loss: 0.9233 - val_accuracy: 0.7248\n",
      "Epoch 68/100\n",
      "22/22 [==============================] - 1s 49ms/step - loss: 0.3759 - accuracy: 0.8644 - val_loss: 0.9010 - val_accuracy: 0.7264\n",
      "Epoch 69/100\n",
      "22/22 [==============================] - 1s 49ms/step - loss: 0.3705 - accuracy: 0.8683 - val_loss: 0.9218 - val_accuracy: 0.7220\n",
      "Epoch 70/100\n",
      "22/22 [==============================] - 1s 49ms/step - loss: 0.3549 - accuracy: 0.8719 - val_loss: 0.9652 - val_accuracy: 0.7232\n",
      "Epoch 71/100\n",
      "22/22 [==============================] - 1s 49ms/step - loss: 0.3598 - accuracy: 0.8701 - val_loss: 0.9158 - val_accuracy: 0.7300\n",
      "Epoch 72/100\n",
      "22/22 [==============================] - 1s 49ms/step - loss: 0.3456 - accuracy: 0.8751 - val_loss: 0.9428 - val_accuracy: 0.7176\n",
      "Epoch 73/100\n",
      "22/22 [==============================] - 1s 50ms/step - loss: 0.3380 - accuracy: 0.8771 - val_loss: 0.9545 - val_accuracy: 0.7216\n",
      "Epoch 74/100\n",
      "22/22 [==============================] - 1s 49ms/step - loss: 0.3439 - accuracy: 0.8766 - val_loss: 0.9676 - val_accuracy: 0.7228\n",
      "Epoch 75/100\n",
      "22/22 [==============================] - 1s 50ms/step - loss: 0.3457 - accuracy: 0.8773 - val_loss: 0.9902 - val_accuracy: 0.7282\n",
      "Epoch 76/100\n",
      "22/22 [==============================] - 1s 49ms/step - loss: 0.3355 - accuracy: 0.8791 - val_loss: 0.9626 - val_accuracy: 0.7232\n",
      "Epoch 77/100\n",
      "22/22 [==============================] - 1s 49ms/step - loss: 0.3260 - accuracy: 0.8826 - val_loss: 0.9657 - val_accuracy: 0.7250\n",
      "Epoch 78/100\n",
      "22/22 [==============================] - 1s 49ms/step - loss: 0.3275 - accuracy: 0.8836 - val_loss: 0.9889 - val_accuracy: 0.7276\n",
      "Epoch 79/100\n",
      "22/22 [==============================] - 1s 49ms/step - loss: 0.3242 - accuracy: 0.8861 - val_loss: 0.9694 - val_accuracy: 0.7234\n",
      "Epoch 80/100\n",
      "22/22 [==============================] - 1s 50ms/step - loss: 0.3201 - accuracy: 0.8837 - val_loss: 0.9970 - val_accuracy: 0.7182\n",
      "Epoch 81/100\n",
      "22/22 [==============================] - 1s 49ms/step - loss: 0.3267 - accuracy: 0.8839 - val_loss: 0.9870 - val_accuracy: 0.7284\n",
      "Epoch 82/100\n",
      "22/22 [==============================] - 1s 50ms/step - loss: 0.3030 - accuracy: 0.8905 - val_loss: 0.9850 - val_accuracy: 0.7244\n",
      "Epoch 83/100\n",
      "22/22 [==============================] - 1s 50ms/step - loss: 0.2972 - accuracy: 0.8934 - val_loss: 1.0260 - val_accuracy: 0.7224\n",
      "Epoch 84/100\n",
      "22/22 [==============================] - 1s 50ms/step - loss: 0.3071 - accuracy: 0.8904 - val_loss: 0.9959 - val_accuracy: 0.7262\n",
      "Epoch 85/100\n",
      "22/22 [==============================] - 1s 49ms/step - loss: 0.2998 - accuracy: 0.8919 - val_loss: 1.0239 - val_accuracy: 0.7196\n",
      "Epoch 86/100\n",
      "22/22 [==============================] - 1s 49ms/step - loss: 0.3077 - accuracy: 0.8869 - val_loss: 1.0065 - val_accuracy: 0.7322\n",
      "Epoch 87/100\n",
      "22/22 [==============================] - 1s 50ms/step - loss: 0.2917 - accuracy: 0.8949 - val_loss: 1.0003 - val_accuracy: 0.7288\n",
      "Epoch 88/100\n",
      "22/22 [==============================] - 1s 49ms/step - loss: 0.2750 - accuracy: 0.9009 - val_loss: 1.0713 - val_accuracy: 0.7196\n",
      "Epoch 89/100\n",
      "22/22 [==============================] - 1s 49ms/step - loss: 0.2873 - accuracy: 0.8971 - val_loss: 1.0397 - val_accuracy: 0.7240\n",
      "Epoch 90/100\n",
      "22/22 [==============================] - 1s 49ms/step - loss: 0.2771 - accuracy: 0.9027 - val_loss: 1.0158 - val_accuracy: 0.7256\n",
      "Epoch 91/100\n",
      "22/22 [==============================] - 1s 49ms/step - loss: 0.2695 - accuracy: 0.9044 - val_loss: 1.0448 - val_accuracy: 0.7198\n",
      "Epoch 92/100\n",
      "22/22 [==============================] - 1s 50ms/step - loss: 0.2764 - accuracy: 0.8998 - val_loss: 1.0646 - val_accuracy: 0.7222\n",
      "Epoch 93/100\n",
      "22/22 [==============================] - 1s 49ms/step - loss: 0.2699 - accuracy: 0.9040 - val_loss: 1.0411 - val_accuracy: 0.7298\n",
      "Epoch 94/100\n",
      "22/22 [==============================] - 1s 49ms/step - loss: 0.2677 - accuracy: 0.9028 - val_loss: 1.0819 - val_accuracy: 0.7234\n",
      "Epoch 95/100\n",
      "22/22 [==============================] - 1s 50ms/step - loss: 0.2701 - accuracy: 0.9015 - val_loss: 1.0707 - val_accuracy: 0.7206\n",
      "Epoch 96/100\n",
      "22/22 [==============================] - 1s 49ms/step - loss: 0.2578 - accuracy: 0.9062 - val_loss: 1.0637 - val_accuracy: 0.7262\n",
      "Epoch 97/100\n",
      "22/22 [==============================] - 1s 49ms/step - loss: 0.2610 - accuracy: 0.9065 - val_loss: 1.0665 - val_accuracy: 0.7260\n",
      "Epoch 98/100\n",
      "22/22 [==============================] - 1s 50ms/step - loss: 0.2546 - accuracy: 0.9073 - val_loss: 1.0854 - val_accuracy: 0.7238\n",
      "Epoch 99/100\n",
      "22/22 [==============================] - 1s 49ms/step - loss: 0.2554 - accuracy: 0.9087 - val_loss: 1.0863 - val_accuracy: 0.7232\n",
      "Epoch 100/100\n",
      "22/22 [==============================] - 1s 49ms/step - loss: 0.2486 - accuracy: 0.9084 - val_loss: 1.0737 - val_accuracy: 0.7242\n",
      "313/313 [==============================] - 4s 11ms/step - loss: 1.0799 - accuracy: 0.7120\n",
      "Test accuracy: 71.2%\n",
      "INFO:tensorflow:Assets written to: mlp_mixer_4/assets\n"
     ]
    }
   ],
   "source": [
    "with strategy.scope():\n",
    "    history, model = run_experiment(mlp_mixer_classifier)\n",
    "    model.save(f\"mlp_mixer_{NUM_MIXER_LAYERS}\")"
   ]
  }
 ],
 "metadata": {
  "accelerator": "GPU",
  "colab": {
   "include_colab_link": true,
   "machine_shape": "hm",
   "name": "MLP_Mixer_Training",
   "provenance": []
  },
  "environment": {
   "name": "tf2-gpu.2-4.m65",
   "type": "gcloud",
   "uri": "gcr.io/deeplearning-platform-release/tf2-gpu.2-4:m65"
  },
  "kernelspec": {
   "display_name": "Python 3",
   "language": "python",
   "name": "python3"
  },
  "language_info": {
   "codemirror_mode": {
    "name": "ipython",
    "version": 3
   },
   "file_extension": ".py",
   "mimetype": "text/x-python",
   "name": "python",
   "nbconvert_exporter": "python",
   "pygments_lexer": "ipython3",
   "version": "3.7.10"
  }
 },
 "nbformat": 4,
 "nbformat_minor": 4
}
